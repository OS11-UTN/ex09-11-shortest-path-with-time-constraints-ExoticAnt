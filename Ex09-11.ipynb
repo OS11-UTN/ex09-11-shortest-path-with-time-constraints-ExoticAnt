{
 "cells": [
  {
   "cell_type": "markdown",
   "metadata": {},
   "source": [
    "# OS11 - Exercises 9-11"
   ]
  },
  {
   "cell_type": "code",
   "execution_count": 1,
   "metadata": {},
   "outputs": [],
   "source": [
    "from sympy import *"
   ]
  },
  {
   "cell_type": "code",
   "execution_count": 2,
   "metadata": {},
   "outputs": [],
   "source": [
    "import numpy as np"
   ]
  },
  {
   "cell_type": "code",
   "execution_count": 3,
   "metadata": {},
   "outputs": [],
   "source": [
    "import scipy.linalg as linalg"
   ]
  },
  {
   "cell_type": "code",
   "execution_count": 4,
   "metadata": {},
   "outputs": [],
   "source": [
    "from scipy.optimize import linprog"
   ]
  },
  {
   "cell_type": "code",
   "execution_count": 5,
   "metadata": {},
   "outputs": [],
   "source": [
    "import matplotlib.pyplot as plt"
   ]
  },
  {
   "cell_type": "markdown",
   "metadata": {},
   "source": [
    "### Previous functions useful here"
   ]
  },
  {
   "cell_type": "code",
   "execution_count": 6,
   "metadata": {},
   "outputs": [],
   "source": [
    "def nodes_indexer(named_nodes):\n",
    "    nodes = {}\n",
    "    for i in range(len(named_nodes)):\n",
    "        nodes[named_nodes[i]] = i\n",
    "    return nodes"
   ]
  },
  {
   "cell_type": "code",
   "execution_count": 7,
   "metadata": {},
   "outputs": [],
   "source": [
    "def ANMatrix_from_arcs(graph, num_nodes):\n",
    "    num_arcs = len(graph)\n",
    "    arcs = []\n",
    "    MN = np.zeros((num_nodes, num_arcs)).astype(int)\n",
    "    for a in range(len(graph)):\n",
    "        MN[graph[a][0][0], a] = 1\n",
    "        MN[graph[a][0][1], a] = -1\n",
    "        arcs.append(graph[a][0])\n",
    "    return MN"
   ]
  },
  {
   "cell_type": "code",
   "execution_count": 8,
   "metadata": {},
   "outputs": [],
   "source": [
    "def print_path(graph, selected_nodes):\n",
    "    s = ''\n",
    "    sep = ' -> '\n",
    "    s += sep\n",
    "    for i in range(len(graph)):\n",
    "        if selected_nodes[i] > 0.1:\n",
    "            s += str(graph[i][0]) + sep\n",
    "    return s"
   ]
  },
  {
   "cell_type": "markdown",
   "metadata": {},
   "source": [
    "## Ex. 9 - SP time-restricted "
   ]
  },
  {
   "cell_type": "code",
   "execution_count": 9,
   "metadata": {},
   "outputs": [],
   "source": [
    "named_nodes = ['s', '2', '3', '4', '5', 't']   #node enumeration. Can be any non repeated inmutable."
   ]
  },
  {
   "cell_type": "code",
   "execution_count": 10,
   "metadata": {},
   "outputs": [],
   "source": [
    "nodes = nodes_indexer(named_nodes)"
   ]
  },
  {
   "cell_type": "code",
   "execution_count": 11,
   "metadata": {},
   "outputs": [
    {
     "data": {
      "text/plain": [
       "[(('s', '2'), (2, 3)),\n",
       " (('s', '3'), (1, 1)),\n",
       " (('2', '4'), (2, 3)),\n",
       " (('2', 't'), (5, 1)),\n",
       " (('3', '5'), (2, 3)),\n",
       " (('4', 't'), (1, 3)),\n",
       " (('5', 't'), (2, 5))]"
      ]
     },
     "execution_count": 11,
     "metadata": {},
     "output_type": "execute_result"
    }
   ],
   "source": [
    "gen_graph = []\n",
    "\n",
    "gen_graph.append((('s', '2'), (2,3)))   #distance, time\n",
    "gen_graph.append((('s', '3'), (1,1)))\n",
    "\n",
    "gen_graph.append((('2', '4'), (2,3)))\n",
    "gen_graph.append((('2', 't'), (5,1)))\n",
    "\n",
    "gen_graph.append((('3', '5'), (2,3)))\n",
    "\n",
    "gen_graph.append((('4', 't'), (1,3)))\n",
    "\n",
    "gen_graph.append((('5', 't'), (2,5)))\n",
    "\n",
    "gen_graph\n"
   ]
  },
  {
   "cell_type": "markdown",
   "metadata": {},
   "source": [
    "Graph data is in named form, I need it in indexed form:"
   ]
  },
  {
   "cell_type": "code",
   "execution_count": 12,
   "metadata": {},
   "outputs": [
    {
     "data": {
      "text/plain": [
       "[((0, 1), (2, 3)),\n",
       " ((0, 2), (1, 1)),\n",
       " ((1, 3), (2, 3)),\n",
       " ((1, 5), (5, 1)),\n",
       " ((2, 4), (2, 3)),\n",
       " ((3, 5), (1, 3)),\n",
       " ((4, 5), (2, 5))]"
      ]
     },
     "execution_count": 12,
     "metadata": {},
     "output_type": "execute_result"
    }
   ],
   "source": [
    "indexed_graph = [((nodes[a[0][0]], nodes[a[0][1]]), a[1]) for a in gen_graph]\n",
    "indexed_graph"
   ]
  },
  {
   "cell_type": "markdown",
   "metadata": {},
   "source": [
    "Now, I can create the arcs-nodes matrix"
   ]
  },
  {
   "cell_type": "code",
   "execution_count": 13,
   "metadata": {},
   "outputs": [
    {
     "data": {
      "text/plain": [
       "array([[ 1,  1,  0,  0,  0,  0,  0],\n",
       "       [-1,  0,  1,  1,  0,  0,  0],\n",
       "       [ 0, -1,  0,  0,  1,  0,  0],\n",
       "       [ 0,  0, -1,  0,  0,  1,  0],\n",
       "       [ 0,  0,  0,  0, -1,  0,  1],\n",
       "       [ 0,  0,  0, -1,  0, -1, -1]])"
      ]
     },
     "execution_count": 13,
     "metadata": {},
     "output_type": "execute_result"
    }
   ],
   "source": [
    "A = ANMatrix_from_arcs(indexed_graph, len(nodes))\n",
    "A"
   ]
  },
  {
   "cell_type": "markdown",
   "metadata": {},
   "source": [
    "Cost function:"
   ]
  },
  {
   "cell_type": "code",
   "execution_count": 14,
   "metadata": {},
   "outputs": [
    {
     "data": {
      "text/plain": [
       "array([2, 1, 2, 5, 2, 1, 2])"
      ]
     },
     "execution_count": 14,
     "metadata": {},
     "output_type": "execute_result"
    }
   ],
   "source": [
    "costos = [a[1][0] for a in gen_graph]\n",
    "c = np.array(costos)\n",
    "\n",
    "c"
   ]
  },
  {
   "cell_type": "markdown",
   "metadata": {},
   "source": [
    "Nodes balance b:\n",
    "    "
   ]
  },
  {
   "cell_type": "code",
   "execution_count": 15,
   "metadata": {},
   "outputs": [
    {
     "data": {
      "text/plain": [
       "array([ 1.,  0.,  0.,  0.,  0., -1.])"
      ]
     },
     "execution_count": 15,
     "metadata": {},
     "output_type": "execute_result"
    }
   ],
   "source": [
    "b = np.zeros((len(nodes)))\n",
    "b[nodes['s']] = 1 \n",
    "b[nodes['t']] = -1 \n",
    "\n",
    "b"
   ]
  },
  {
   "cell_type": "markdown",
   "metadata": {},
   "source": [
    "D.V. bounds:"
   ]
  },
  {
   "cell_type": "code",
   "execution_count": 16,
   "metadata": {},
   "outputs": [
    {
     "data": {
      "text/plain": [
       "[(0, None), (0, None), (0, None), (0, None), (0, None), (0, None), (0, None)]"
      ]
     },
     "execution_count": 16,
     "metadata": {},
     "output_type": "execute_result"
    }
   ],
   "source": [
    "limites = [(0, None) for a in gen_graph]\n",
    "limites"
   ]
  },
  {
   "cell_type": "markdown",
   "metadata": {},
   "source": [
    "Travel time for each arc:"
   ]
  },
  {
   "cell_type": "code",
   "execution_count": 17,
   "metadata": {},
   "outputs": [
    {
     "data": {
      "text/plain": [
       "array([[3, 1, 3, 1, 3, 3, 5]])"
      ]
     },
     "execution_count": 17,
     "metadata": {},
     "output_type": "execute_result"
    }
   ],
   "source": [
    "t_j = [[a[1][1] for a in gen_graph]]\n",
    "t_j = np.array(t_j)\n",
    "t_j"
   ]
  },
  {
   "cell_type": "markdown",
   "metadata": {},
   "source": [
    "Maximum time available:"
   ]
  },
  {
   "cell_type": "code",
   "execution_count": 18,
   "metadata": {},
   "outputs": [
    {
     "data": {
      "text/plain": [
       "array([9])"
      ]
     },
     "execution_count": 18,
     "metadata": {},
     "output_type": "execute_result"
    }
   ],
   "source": [
    "T = np.array([9])\n",
    "T"
   ]
  },
  {
   "cell_type": "markdown",
   "metadata": {},
   "source": [
    "### Resolution"
   ]
  },
  {
   "cell_type": "code",
   "execution_count": 19,
   "metadata": {},
   "outputs": [
    {
     "name": "stderr",
     "output_type": "stream",
     "text": [
      "<ipython-input-19-0c828d44b360>:1: OptimizeWarning: A_eq does not appear to be of full row rank. To improve performance, check the problem formulation for redundant equality constraints.\n",
      "  r = linprog(c=c, A_eq = A, b_eq = b, bounds = limites, A_ub= t_j, b_ub=T, method='revised simplex')\n"
     ]
    }
   ],
   "source": [
    "r = linprog(c=c, A_eq = A, b_eq = b, bounds = limites, A_ub= t_j, b_ub=T, method='revised simplex')"
   ]
  },
  {
   "cell_type": "code",
   "execution_count": 20,
   "metadata": {},
   "outputs": [
    {
     "data": {
      "text/plain": [
       "     con: array([0., 0., 0., 0., 0., 0.])\n",
       "     fun: 5.0\n",
       " message: 'Optimization terminated successfully.'\n",
       "     nit: 6\n",
       "   slack: array([0.])\n",
       "  status: 0\n",
       " success: True\n",
       "       x: array([0., 1., 0., 0., 1., 0., 1.])"
      ]
     },
     "execution_count": 20,
     "metadata": {},
     "output_type": "execute_result"
    }
   ],
   "source": [
    "r"
   ]
  },
  {
   "cell_type": "markdown",
   "metadata": {},
   "source": [
    "### Results"
   ]
  },
  {
   "cell_type": "code",
   "execution_count": 21,
   "metadata": {},
   "outputs": [
    {
     "data": {
      "text/plain": [
       "\" -> ('s', '3') -> ('3', '5') -> ('5', 't') -> \""
      ]
     },
     "execution_count": 21,
     "metadata": {},
     "output_type": "execute_result"
    }
   ],
   "source": [
    "print_path(gen_graph, r.x)"
   ]
  },
  {
   "cell_type": "markdown",
   "metadata": {},
   "source": [
    "### Second case, T=8 hs"
   ]
  },
  {
   "cell_type": "code",
   "execution_count": 22,
   "metadata": {},
   "outputs": [
    {
     "data": {
      "text/plain": [
       "array([8])"
      ]
     },
     "execution_count": 22,
     "metadata": {},
     "output_type": "execute_result"
    }
   ],
   "source": [
    "T = np.array([8])\n",
    "T"
   ]
  },
  {
   "cell_type": "code",
   "execution_count": 23,
   "metadata": {},
   "outputs": [
    {
     "name": "stderr",
     "output_type": "stream",
     "text": [
      "<ipython-input-23-afe5f22800ef>:1: OptimizeWarning: A_eq does not appear to be of full row rank. To improve performance, check the problem formulation for redundant equality constraints.\n",
      "  r = linprog(c=c, A_eq = A, b_eq = b, bounds = limites, A_ub= t_j, b_ub=T, method='simplex')\n"
     ]
    }
   ],
   "source": [
    "r = linprog(c=c, A_eq = A, b_eq = b, bounds = limites, A_ub= t_j, b_ub=T, method='simplex')"
   ]
  },
  {
   "cell_type": "code",
   "execution_count": 24,
   "metadata": {},
   "outputs": [
    {
     "data": {
      "text/plain": [
       "     con: array([0., 0., 0., 0., 0., 0.])\n",
       "     fun: 5.4\n",
       " message: 'Optimization terminated successfully.'\n",
       "     nit: 6\n",
       "   slack: array([0.])\n",
       "  status: 0\n",
       " success: True\n",
       "       x: array([0.2, 0.8, 0. , 0.2, 0.8, 0. , 0.8])"
      ]
     },
     "execution_count": 24,
     "metadata": {},
     "output_type": "execute_result"
    }
   ],
   "source": [
    "r"
   ]
  },
  {
   "cell_type": "code",
   "execution_count": 25,
   "metadata": {},
   "outputs": [
    {
     "data": {
      "text/plain": [
       "5.4"
      ]
     },
     "execution_count": 25,
     "metadata": {},
     "output_type": "execute_result"
    }
   ],
   "source": [
    "r.fun"
   ]
  },
  {
   "cell_type": "markdown",
   "metadata": {},
   "source": [
    "### Conclussions"
   ]
  },
  {
   "cell_type": "markdown",
   "metadata": {},
   "source": [
    "With restriction Tmax = 9 hs problem works and solver found a solution equal to 5 hs.\n",
    "\n",
    "When  we change restriction to 8 hs, solver fails to found a correct solution in our problem context despite being mathematically correct.\n",
    "\n",
    "The fact that the case 8 hs is equally factible as the case 9 hs shows the resolution technique limitations."
   ]
  },
  {
   "cell_type": "markdown",
   "metadata": {},
   "source": [
    "## Ex. 10 - SP time-restricted with Lagrange relaxation "
   ]
  },
  {
   "cell_type": "markdown",
   "metadata": {},
   "source": [
    "### Problem data"
   ]
  },
  {
   "cell_type": "markdown",
   "metadata": {},
   "source": [
    "Data is the same as Ex. 9, so we have cost function:"
   ]
  },
  {
   "cell_type": "code",
   "execution_count": 26,
   "metadata": {},
   "outputs": [
    {
     "data": {
      "text/plain": [
       "array([2, 1, 2, 5, 2, 1, 2])"
      ]
     },
     "execution_count": 26,
     "metadata": {},
     "output_type": "execute_result"
    }
   ],
   "source": [
    "c"
   ]
  },
  {
   "cell_type": "markdown",
   "metadata": {},
   "source": [
    "Travel times:"
   ]
  },
  {
   "cell_type": "code",
   "execution_count": 27,
   "metadata": {},
   "outputs": [
    {
     "data": {
      "text/plain": [
       "array([[3, 1, 3, 1, 3, 3, 5]])"
      ]
     },
     "execution_count": 27,
     "metadata": {},
     "output_type": "execute_result"
    }
   ],
   "source": [
    "t_j"
   ]
  },
  {
   "cell_type": "markdown",
   "metadata": {},
   "source": [
    "Max. time:"
   ]
  },
  {
   "cell_type": "code",
   "execution_count": 28,
   "metadata": {},
   "outputs": [],
   "source": [
    "T = 8"
   ]
  },
  {
   "cell_type": "markdown",
   "metadata": {},
   "source": [
    "Arc-Node matrix:"
   ]
  },
  {
   "cell_type": "code",
   "execution_count": 29,
   "metadata": {},
   "outputs": [
    {
     "data": {
      "text/plain": [
       "array([[ 1,  1,  0,  0,  0,  0,  0],\n",
       "       [-1,  0,  1,  1,  0,  0,  0],\n",
       "       [ 0, -1,  0,  0,  1,  0,  0],\n",
       "       [ 0,  0, -1,  0,  0,  1,  0],\n",
       "       [ 0,  0,  0,  0, -1,  0,  1],\n",
       "       [ 0,  0,  0, -1,  0, -1, -1]])"
      ]
     },
     "execution_count": 29,
     "metadata": {},
     "output_type": "execute_result"
    }
   ],
   "source": [
    "A"
   ]
  },
  {
   "cell_type": "markdown",
   "metadata": {},
   "source": [
    "Node balance:"
   ]
  },
  {
   "cell_type": "code",
   "execution_count": 30,
   "metadata": {},
   "outputs": [
    {
     "data": {
      "text/plain": [
       "array([ 1.,  0.,  0.,  0.,  0., -1.])"
      ]
     },
     "execution_count": 30,
     "metadata": {},
     "output_type": "execute_result"
    }
   ],
   "source": [
    "b"
   ]
  },
  {
   "cell_type": "markdown",
   "metadata": {},
   "source": [
    "D. V. bounds:"
   ]
  },
  {
   "cell_type": "code",
   "execution_count": 31,
   "metadata": {},
   "outputs": [
    {
     "data": {
      "text/plain": [
       "[(0, None), (0, None), (0, None), (0, None), (0, None), (0, None), (0, None)]"
      ]
     },
     "execution_count": 31,
     "metadata": {},
     "output_type": "execute_result"
    }
   ],
   "source": [
    "limites"
   ]
  },
  {
   "cell_type": "markdown",
   "metadata": {},
   "source": [
    "### Function definition"
   ]
  },
  {
   "cell_type": "markdown",
   "metadata": {},
   "source": [
    "First I will define the Lagrangian function:"
   ]
  },
  {
   "cell_type": "code",
   "execution_count": 32,
   "metadata": {},
   "outputs": [],
   "source": [
    "def L(lambda_):\n",
    "    c_moño = c + t_j * lambda_\n",
    "    r = linprog(c=c_moño, A_eq = A, b_eq = b, bounds = limites, method='revised simplex')\n",
    "    \n",
    "    return -lambda_*T+r.fun, r"
   ]
  },
  {
   "cell_type": "markdown",
   "metadata": {},
   "source": [
    "Using a guess I try a max lambda and compute values to restrict seach range:"
   ]
  },
  {
   "cell_type": "code",
   "execution_count": 33,
   "metadata": {},
   "outputs": [],
   "source": [
    "lambda_max = 10.0\n",
    "steps = 5"
   ]
  },
  {
   "cell_type": "code",
   "execution_count": 34,
   "metadata": {},
   "outputs": [
    {
     "data": {
      "text/plain": [
       "[0.0, 2.0, 4.0, 6.0, 8.0, 10.0]"
      ]
     },
     "execution_count": 34,
     "metadata": {},
     "output_type": "execute_result"
    }
   ],
   "source": [
    "lambdas = [l*lambda_max/steps for l in range(0,steps+1)]\n",
    "lambdas"
   ]
  },
  {
   "cell_type": "code",
   "execution_count": 35,
   "metadata": {},
   "outputs": [
    {
     "name": "stderr",
     "output_type": "stream",
     "text": [
      "<ipython-input-32-65f143c2ffd3>:3: OptimizeWarning: A_eq does not appear to be of full row rank. To improve performance, check the problem formulation for redundant equality constraints.\n",
      "  r = linprog(c=c_moño, A_eq = A, b_eq = b, bounds = limites, method='revised simplex')\n"
     ]
    },
    {
     "data": {
      "text/plain": [
       "[5.0, -1.0, -9.0, -17.0, -25.0, -33.0]"
      ]
     },
     "execution_count": 35,
     "metadata": {},
     "output_type": "execute_result"
    }
   ],
   "source": [
    "results = [L(l)[0] for l in lambdas]\n",
    "results"
   ]
  },
  {
   "cell_type": "markdown",
   "metadata": {},
   "source": [
    "The best solution lies between 0 and 2."
   ]
  },
  {
   "cell_type": "markdown",
   "metadata": {},
   "source": [
    "We define a progrssive search funtion for finding maximum's interval."
   ]
  },
  {
   "cell_type": "code",
   "execution_count": 36,
   "metadata": {},
   "outputs": [],
   "source": [
    "def search_max(b, e, tol = 0.001):\n",
    "\n",
    "    found = False\n",
    "    \n",
    "    while not found:    \n",
    "        rango = [b + (e-b)/steps*i for i in range(steps+1)]\n",
    "        valores = [L(l) for l in rango]\n",
    "        \n",
    "        minimo = valores[0][0]\n",
    "        maximo = valores[0][0]\n",
    "        r_min = 0\n",
    "        r_max = 0\n",
    "\n",
    "        for i in range(steps+1):\n",
    "            v = valores[i][0]\n",
    "            if v<minimo:\n",
    "                minimo=v\n",
    "                r_min = i\n",
    "            if v>maximo:\n",
    "                maximo=v\n",
    "                r_max = i\n",
    "\n",
    "        if abs(minimo-maximo)<= tol:\n",
    "            found = True\n",
    "        else:\n",
    "            #indices de los nuevos limites\n",
    "            r_b = r_max - 1\n",
    "            if r_b<0:\n",
    "                r_b=0\n",
    "            r_e = r_max+1\n",
    "            if r_e >= steps + 1:\n",
    "                r_e = steps\n",
    "            b = rango[r_b]\n",
    "            e = rango[r_e]\n",
    "            found = False\n",
    "    \n",
    "    return rango[r_max], valores[r_max][0], valores[r_max][1]\n"
   ]
  },
  {
   "cell_type": "markdown",
   "metadata": {},
   "source": [
    "### Resolution"
   ]
  },
  {
   "cell_type": "markdown",
   "metadata": {},
   "source": [
    "Using maxumum search function, I will try to find optimum value for lambda."
   ]
  },
  {
   "cell_type": "code",
   "execution_count": 37,
   "metadata": {},
   "outputs": [
    {
     "name": "stderr",
     "output_type": "stream",
     "text": [
      "<ipython-input-32-65f143c2ffd3>:3: OptimizeWarning: A_eq does not appear to be of full row rank. To improve performance, check the problem formulation for redundant equality constraints.\n",
      "  r = linprog(c=c_moño, A_eq = A, b_eq = b, bounds = limites, method='revised simplex')\n"
     ]
    },
    {
     "data": {
      "text/plain": [
       "(0.39998627839999995,\n",
       " 5.3999862784,\n",
       "      con: array([0., 0., 0., 0., 0., 0.])\n",
       "      fun: 8.5998765056\n",
       "  message: 'Optimization terminated successfully.'\n",
       "      nit: 4\n",
       "    slack: array([], dtype=float64)\n",
       "   status: 0\n",
       "  success: True\n",
       "        x: array([0., 1., 0., 0., 1., 0., 1.]))"
      ]
     },
     "execution_count": 37,
     "metadata": {},
     "output_type": "execute_result"
    }
   ],
   "source": [
    "search_max(0.0,2.0, 1e-3)"
   ]
  },
  {
   "cell_type": "markdown",
   "metadata": {},
   "source": [
    "Optimum value for lambda, that maximizes L(lambda), appears to be around 0.4. Objective function value:"
   ]
  },
  {
   "cell_type": "code",
   "execution_count": 38,
   "metadata": {},
   "outputs": [
    {
     "name": "stderr",
     "output_type": "stream",
     "text": [
      "<ipython-input-32-65f143c2ffd3>:3: OptimizeWarning: A_eq does not appear to be of full row rank. To improve performance, check the problem formulation for redundant equality constraints.\n",
      "  r = linprog(c=c_moño, A_eq = A, b_eq = b, bounds = limites, method='revised simplex')\n"
     ]
    },
    {
     "data": {
      "text/plain": [
       "5.400000000000001"
      ]
     },
     "execution_count": 38,
     "metadata": {},
     "output_type": "execute_result"
    }
   ],
   "source": [
    "L(0.4)[0]"
   ]
  },
  {
   "cell_type": "markdown",
   "metadata": {},
   "source": [
    "Plot of L(lambda) around optimum:"
   ]
  },
  {
   "cell_type": "code",
   "execution_count": 39,
   "metadata": {},
   "outputs": [
    {
     "name": "stderr",
     "output_type": "stream",
     "text": [
      "<ipython-input-32-65f143c2ffd3>:3: OptimizeWarning: A_eq does not appear to be of full row rank. To improve performance, check the problem formulation for redundant equality constraints.\n",
      "  r = linprog(c=c_moño, A_eq = A, b_eq = b, bounds = limites, method='revised simplex')\n"
     ]
    }
   ],
   "source": [
    "inicio = 0.2\n",
    "fin = 0.6\n",
    "steps = 100\n",
    "rango = [inicio + (fin-inicio)/steps*i for i in range(steps+1)]\n",
    "valores = [L(l) for l in rango]"
   ]
  },
  {
   "cell_type": "code",
   "execution_count": 40,
   "metadata": {},
   "outputs": [
    {
     "data": {
      "text/plain": [
       "[<matplotlib.lines.Line2D at 0x2172b4d4e20>]"
      ]
     },
     "execution_count": 40,
     "metadata": {},
     "output_type": "execute_result"
    },
    {
     "data": {
      "image/png": "[encoded data removed]",
      "text/plain": [
       "<Figure size 432x288 with 1 Axes>"
      ]
     },
     "metadata": {
      "needs_background": "light"
     },
     "output_type": "display_data"
    }
   ],
   "source": [
    "plt.plot(rango, [v[0] for v in valores])"
   ]
  },
  {
   "cell_type": "markdown",
   "metadata": {},
   "source": [
    "### Results"
   ]
  },
  {
   "cell_type": "markdown",
   "metadata": {},
   "source": [
    "Optimum value for $lambda$ converges to:"
   ]
  },
  {
   "cell_type": "code",
   "execution_count": 41,
   "metadata": {},
   "outputs": [],
   "source": [
    "lambda_opt = 0.4"
   ]
  },
  {
   "cell_type": "markdown",
   "metadata": {},
   "source": [
    "Lagrangian value at optimum point:"
   ]
  },
  {
   "cell_type": "code",
   "execution_count": 42,
   "metadata": {},
   "outputs": [
    {
     "name": "stderr",
     "output_type": "stream",
     "text": [
      "<ipython-input-32-65f143c2ffd3>:3: OptimizeWarning: A_eq does not appear to be of full row rank. To improve performance, check the problem formulation for redundant equality constraints.\n",
      "  r = linprog(c=c_moño, A_eq = A, b_eq = b, bounds = limites, method='revised simplex')\n"
     ]
    },
    {
     "data": {
      "text/plain": [
       "5.400000000000001"
      ]
     },
     "execution_count": 42,
     "metadata": {},
     "output_type": "execute_result"
    }
   ],
   "source": [
    "L_opt = L(lambda_opt)\n",
    "L_opt[0]"
   ]
  },
  {
   "cell_type": "markdown",
   "metadata": {},
   "source": [
    "Selected arcs:"
   ]
  },
  {
   "cell_type": "code",
   "execution_count": 43,
   "metadata": {},
   "outputs": [
    {
     "data": {
      "text/plain": [
       "array([1., 0., 0., 1., 0., 0., 0.])"
      ]
     },
     "execution_count": 43,
     "metadata": {},
     "output_type": "execute_result"
    }
   ],
   "source": [
    "L_opt[1].x"
   ]
  },
  {
   "cell_type": "code",
   "execution_count": 44,
   "metadata": {},
   "outputs": [
    {
     "data": {
      "text/plain": [
       "\" -> ('s', '2') -> ('2', 't') -> \""
      ]
     },
     "execution_count": 44,
     "metadata": {},
     "output_type": "execute_result"
    }
   ],
   "source": [
    "print_path(gen_graph, L_opt[1].x)"
   ]
  },
  {
   "cell_type": "markdown",
   "metadata": {},
   "source": [
    "With known selected arcs and using the primal objective function, it's easy to calculate primal objective function value:"
   ]
  },
  {
   "cell_type": "code",
   "execution_count": 45,
   "metadata": {},
   "outputs": [
    {
     "data": {
      "text/plain": [
       "7.0"
      ]
     },
     "execution_count": 45,
     "metadata": {},
     "output_type": "execute_result"
    }
   ],
   "source": [
    "f_obj_primal = c @ L_opt[1].x\n",
    "f_obj_primal"
   ]
  },
  {
   "cell_type": "markdown",
   "metadata": {},
   "source": [
    "Primal objetive function represents total distance to travel from s to t."
   ]
  },
  {
   "cell_type": "markdown",
   "metadata": {},
   "source": [
    "Total time spent from s to t: "
   ]
  },
  {
   "cell_type": "code",
   "execution_count": 46,
   "metadata": {},
   "outputs": [
    {
     "data": {
      "text/plain": [
       "4.0"
      ]
     },
     "execution_count": 46,
     "metadata": {},
     "output_type": "execute_result"
    }
   ],
   "source": [
    "T_total = t_j[0] @ L_opt[1].x\n",
    "T_total"
   ]
  },
  {
   "cell_type": "markdown",
   "metadata": {},
   "source": [
    "## Ex. 11 - SP time-restricted with the subgradient method "
   ]
  },
  {
   "cell_type": "markdown",
   "metadata": {},
   "source": [
    "### Problem data"
   ]
  },
  {
   "cell_type": "markdown",
   "metadata": {},
   "source": [
    "Data is the same as Ex. 10. Also, I will use the same L(lambda) function definition."
   ]
  },
  {
   "cell_type": "code",
   "execution_count": 47,
   "metadata": {},
   "outputs": [
    {
     "data": {
      "text/plain": [
       "array([2, 1, 2, 5, 2, 1, 2])"
      ]
     },
     "execution_count": 47,
     "metadata": {},
     "output_type": "execute_result"
    }
   ],
   "source": [
    "c"
   ]
  },
  {
   "cell_type": "markdown",
   "metadata": {},
   "source": [
    "Travel times:"
   ]
  },
  {
   "cell_type": "code",
   "execution_count": 48,
   "metadata": {},
   "outputs": [
    {
     "data": {
      "text/plain": [
       "array([[3, 1, 3, 1, 3, 3, 5]])"
      ]
     },
     "execution_count": 48,
     "metadata": {},
     "output_type": "execute_result"
    }
   ],
   "source": [
    "t_j"
   ]
  },
  {
   "cell_type": "markdown",
   "metadata": {},
   "source": [
    "Max. time:"
   ]
  },
  {
   "cell_type": "code",
   "execution_count": 49,
   "metadata": {},
   "outputs": [],
   "source": [
    "T = 8"
   ]
  },
  {
   "cell_type": "markdown",
   "metadata": {},
   "source": [
    "Arc-Node matrix:"
   ]
  },
  {
   "cell_type": "code",
   "execution_count": 50,
   "metadata": {},
   "outputs": [
    {
     "data": {
      "text/plain": [
       "array([[ 1,  1,  0,  0,  0,  0,  0],\n",
       "       [-1,  0,  1,  1,  0,  0,  0],\n",
       "       [ 0, -1,  0,  0,  1,  0,  0],\n",
       "       [ 0,  0, -1,  0,  0,  1,  0],\n",
       "       [ 0,  0,  0,  0, -1,  0,  1],\n",
       "       [ 0,  0,  0, -1,  0, -1, -1]])"
      ]
     },
     "execution_count": 50,
     "metadata": {},
     "output_type": "execute_result"
    }
   ],
   "source": [
    "A"
   ]
  },
  {
   "cell_type": "markdown",
   "metadata": {},
   "source": [
    "Node balance:"
   ]
  },
  {
   "cell_type": "code",
   "execution_count": 51,
   "metadata": {},
   "outputs": [
    {
     "data": {
      "text/plain": [
       "array([ 1.,  0.,  0.,  0.,  0., -1.])"
      ]
     },
     "execution_count": 51,
     "metadata": {},
     "output_type": "execute_result"
    }
   ],
   "source": [
    "b"
   ]
  },
  {
   "cell_type": "markdown",
   "metadata": {},
   "source": [
    "D. V. bounds:"
   ]
  },
  {
   "cell_type": "code",
   "execution_count": 52,
   "metadata": {},
   "outputs": [
    {
     "data": {
      "text/plain": [
       "[(0, None), (0, None), (0, None), (0, None), (0, None), (0, None), (0, None)]"
      ]
     },
     "execution_count": 52,
     "metadata": {},
     "output_type": "execute_result"
    }
   ],
   "source": [
    "limites"
   ]
  },
  {
   "cell_type": "markdown",
   "metadata": {},
   "source": [
    "### Subgradient procedure"
   ]
  },
  {
   "cell_type": "code",
   "execution_count": 53,
   "metadata": {},
   "outputs": [],
   "source": [
    "def L(lambda_):\n",
    "    c_moño = c + t_j * lambda_\n",
    "    r = linprog(c=c_moño, A_eq = A, b_eq = b, bounds = limites, method='revised simplex')\n",
    "    \n",
    "    return -lambda_*T+r.fun, r"
   ]
  },
  {
   "cell_type": "code",
   "execution_count": 54,
   "metadata": {},
   "outputs": [],
   "source": [
    "def search_subgradient(lambda_inicial, tol=0.01):\n",
    "    lambda_ = lambda_inicial\n",
    "\n",
    "    diff = tol+1\n",
    "    step = 0\n",
    "    while abs(diff) > tol:\n",
    "        l, res = L(lambda_)\n",
    "        x_opt = res.x\n",
    "        fun_primal = t_j[0] @ x_opt\n",
    "\n",
    "        gradiente_lambda = t_j[0] @ x_opt - T\n",
    "        step +=1\n",
    "        diff = gradiente_lambda/step\n",
    "        lambda_ += diff\n",
    "        #print(\"Paso: {0}  lambda:{1:.4f} Fun {2:.1f} Primal {3:.1f} Arcos: {4}\".format(step, lambda_, res.fun, fun_primal, str(x_opt)))\n",
    "        \n",
    "    return lambda_, res, step\n"
   ]
  },
  {
   "cell_type": "code",
   "execution_count": 55,
   "metadata": {},
   "outputs": [
    {
     "name": "stderr",
     "output_type": "stream",
     "text": [
      "<ipython-input-53-65f143c2ffd3>:3: OptimizeWarning: A_eq does not appear to be of full row rank. To improve performance, check the problem formulation for redundant equality constraints.\n",
      "  r = linprog(c=c_moño, A_eq = A, b_eq = b, bounds = limites, method='revised simplex')\n"
     ]
    },
    {
     "data": {
      "text/plain": [
       "0.39847813247158115"
      ]
     },
     "execution_count": 55,
     "metadata": {},
     "output_type": "execute_result"
    }
   ],
   "source": [
    "lambda_final, res, steps = search_subgradient(0, 0.001)\n",
    "\n",
    "lambda_final"
   ]
  },
  {
   "cell_type": "markdown",
   "metadata": {},
   "source": [
    "### Results"
   ]
  },
  {
   "cell_type": "markdown",
   "metadata": {},
   "source": [
    "Lambda Final value after iterations:"
   ]
  },
  {
   "cell_type": "code",
   "execution_count": 56,
   "metadata": {},
   "outputs": [
    {
     "data": {
      "text/plain": [
       "0.39847813247158115"
      ]
     },
     "execution_count": 56,
     "metadata": {},
     "output_type": "execute_result"
    }
   ],
   "source": [
    "lambda_final"
   ]
  },
  {
   "cell_type": "markdown",
   "metadata": {},
   "source": [
    "Steps:"
   ]
  },
  {
   "cell_type": "code",
   "execution_count": 57,
   "metadata": {},
   "outputs": [
    {
     "data": {
      "text/plain": [
       "1000"
      ]
     },
     "execution_count": 57,
     "metadata": {},
     "output_type": "execute_result"
    }
   ],
   "source": [
    "steps"
   ]
  },
  {
   "cell_type": "markdown",
   "metadata": {},
   "source": [
    "Selected Arcs:"
   ]
  },
  {
   "cell_type": "code",
   "execution_count": 58,
   "metadata": {},
   "outputs": [
    {
     "data": {
      "text/plain": [
       "array([1., 0., 1., 0., 0., 1., 0.])"
      ]
     },
     "execution_count": 58,
     "metadata": {},
     "output_type": "execute_result"
    }
   ],
   "source": [
    "res.x"
   ]
  },
  {
   "cell_type": "code",
   "execution_count": 59,
   "metadata": {},
   "outputs": [
    {
     "data": {
      "text/plain": [
       "\" -> ('s', '2') -> ('2', '4') -> ('4', 't') -> \""
      ]
     },
     "execution_count": 59,
     "metadata": {},
     "output_type": "execute_result"
    }
   ],
   "source": [
    "print_path(gen_graph, res.x)"
   ]
  },
  {
   "cell_type": "markdown",
   "metadata": {},
   "source": [
    "With known selected arcs and using the primal objective function, it's easy to calculate primal objective function value:"
   ]
  },
  {
   "cell_type": "code",
   "execution_count": 60,
   "metadata": {},
   "outputs": [
    {
     "data": {
      "text/plain": [
       "5.0"
      ]
     },
     "execution_count": 60,
     "metadata": {},
     "output_type": "execute_result"
    }
   ],
   "source": [
    "f_obj_primal = c @ res.x\n",
    "f_obj_primal"
   ]
  },
  {
   "cell_type": "markdown",
   "metadata": {},
   "source": [
    "Primal objetive function represents total distance to travel from s to t."
   ]
  },
  {
   "cell_type": "markdown",
   "metadata": {},
   "source": [
    "Total time spent from s to t: "
   ]
  },
  {
   "cell_type": "code",
   "execution_count": 61,
   "metadata": {},
   "outputs": [
    {
     "data": {
      "text/plain": [
       "9.0"
      ]
     },
     "execution_count": 61,
     "metadata": {},
     "output_type": "execute_result"
    }
   ],
   "source": [
    "T_total = t_j[0] @ res.x\n",
    "T_total"
   ]
  },
  {
   "cell_type": "markdown",
   "metadata": {},
   "source": [
    "### Conclussions"
   ]
  },
  {
   "cell_type": "markdown",
   "metadata": {},
   "source": [
    "Subgradient method gives us a path to find lambda values on relaxed problem.\n",
    "\n",
    "Relaxed problem solution is very sensitive to lambda value and can fail to honor some restrictions , so a complementary method can be useful to find primal optimal solution.\n",
    "\n",
    "For example, we have found a lambda value of:"
   ]
  },
  {
   "cell_type": "code",
   "execution_count": 62,
   "metadata": {},
   "outputs": [
    {
     "data": {
      "text/plain": [
       "0.39847813247158115"
      ]
     },
     "execution_count": 62,
     "metadata": {},
     "output_type": "execute_result"
    }
   ],
   "source": [
    "lambda_final"
   ]
  },
  {
   "cell_type": "markdown",
   "metadata": {},
   "source": [
    "The selectec arcs:"
   ]
  },
  {
   "cell_type": "code",
   "execution_count": 63,
   "metadata": {},
   "outputs": [
    {
     "name": "stderr",
     "output_type": "stream",
     "text": [
      "<ipython-input-53-65f143c2ffd3>:3: OptimizeWarning: A_eq does not appear to be of full row rank. To improve performance, check the problem formulation for redundant equality constraints.\n",
      "  r = linprog(c=c_moño, A_eq = A, b_eq = b, bounds = limites, method='revised simplex')\n"
     ]
    },
    {
     "data": {
      "text/plain": [
       "array([0., 1., 0., 0., 1., 0., 1.])"
      ]
     },
     "execution_count": 63,
     "metadata": {},
     "output_type": "execute_result"
    }
   ],
   "source": [
    "x = L(lambda_final)[1].x\n",
    "x"
   ]
  },
  {
   "cell_type": "markdown",
   "metadata": {},
   "source": [
    "With a travel time of:"
   ]
  },
  {
   "cell_type": "code",
   "execution_count": 64,
   "metadata": {},
   "outputs": [
    {
     "data": {
      "text/plain": [
       "9.0"
      ]
     },
     "execution_count": 64,
     "metadata": {},
     "output_type": "execute_result"
    }
   ],
   "source": [
    "t_j[0] @ x"
   ]
  },
  {
   "cell_type": "markdown",
   "metadata": {},
   "source": [
    "But with lambda = 0.39:"
   ]
  },
  {
   "cell_type": "code",
   "execution_count": 65,
   "metadata": {},
   "outputs": [
    {
     "name": "stderr",
     "output_type": "stream",
     "text": [
      "<ipython-input-53-65f143c2ffd3>:3: OptimizeWarning: A_eq does not appear to be of full row rank. To improve performance, check the problem formulation for redundant equality constraints.\n",
      "  r = linprog(c=c_moño, A_eq = A, b_eq = b, bounds = limites, method='revised simplex')\n"
     ]
    },
    {
     "data": {
      "text/plain": [
       "array([1., 0., 1., 0., 0., 1., 0.])"
      ]
     },
     "execution_count": 65,
     "metadata": {},
     "output_type": "execute_result"
    }
   ],
   "source": [
    "x = L(0.39)[1].x\n",
    "x"
   ]
  },
  {
   "cell_type": "markdown",
   "metadata": {},
   "source": [
    "With a travel time of:"
   ]
  },
  {
   "cell_type": "code",
   "execution_count": 66,
   "metadata": {},
   "outputs": [
    {
     "data": {
      "text/plain": [
       "9.0"
      ]
     },
     "execution_count": 66,
     "metadata": {},
     "output_type": "execute_result"
    }
   ],
   "source": [
    "t_j[0] @ x"
   ]
  },
  {
   "cell_type": "markdown",
   "metadata": {},
   "source": [
    "Both of this solutions fails to honor restriction T < 8 hs."
   ]
  },
  {
   "cell_type": "markdown",
   "metadata": {},
   "source": [
    "But with lambda = 0.405:"
   ]
  },
  {
   "cell_type": "code",
   "execution_count": 67,
   "metadata": {},
   "outputs": [
    {
     "name": "stderr",
     "output_type": "stream",
     "text": [
      "<ipython-input-53-65f143c2ffd3>:3: OptimizeWarning: A_eq does not appear to be of full row rank. To improve performance, check the problem formulation for redundant equality constraints.\n",
      "  r = linprog(c=c_moño, A_eq = A, b_eq = b, bounds = limites, method='revised simplex')\n"
     ]
    },
    {
     "data": {
      "text/plain": [
       "array([1., 0., 0., 1., 0., 0., 0.])"
      ]
     },
     "execution_count": 67,
     "metadata": {},
     "output_type": "execute_result"
    }
   ],
   "source": [
    "x = L(0.405)[1].x\n",
    "x"
   ]
  },
  {
   "cell_type": "markdown",
   "metadata": {},
   "source": [
    "With a travel time of:"
   ]
  },
  {
   "cell_type": "code",
   "execution_count": 68,
   "metadata": {},
   "outputs": [
    {
     "data": {
      "text/plain": [
       "4.0"
      ]
     },
     "execution_count": 68,
     "metadata": {},
     "output_type": "execute_result"
    }
   ],
   "source": [
    "t_j[0] @ x"
   ]
  },
  {
   "cell_type": "markdown",
   "metadata": {},
   "source": [
    "That solution respects al restrictions."
   ]
  }
 ],
 "metadata": {
  "kernelspec": {
   "display_name": "Python 3",
   "language": "python",
   "name": "python3"
  },
  "language_info": {
   "codemirror_mode": {
    "name": "ipython",
    "version": 3
   },
   "file_extension": ".py",
   "mimetype": "text/x-python",
   "name": "python",
   "nbconvert_exporter": "python",
   "pygments_lexer": "ipython3",
   "version": "3.8.1"
  }
 },
 "nbformat": 4,
 "nbformat_minor": 4
}
